{
 "cells": [
  {
   "cell_type": "code",
   "execution_count": 1,
   "metadata": {},
   "outputs": [],
   "source": [
    "import pandas as pd"
   ]
  },
  {
   "cell_type": "code",
   "execution_count": 22,
   "metadata": {},
   "outputs": [],
   "source": [
    "home_listings = pd.read_csv('../data/home-listings-example.csv')"
   ]
  },
  {
   "cell_type": "markdown",
   "metadata": {},
   "source": [
    "Let's focus on \n",
    "* BathsTotal\n",
    "* BedsTotal\n",
    "* CDOM (Cumulative Days on Market)\n",
    "* LotSizeAreaSQFT\n",
    "* SqFtTotal\n",
    "* ElementarySchoolName\n",
    "\n",
    "And the target column, ClosePrice"
   ]
  },
  {
   "cell_type": "code",
   "execution_count": 8,
   "metadata": {},
   "outputs": [],
   "source": [
    "columns = [\n",
    "'BathsTotal',\n",
    "'BedsTotal',\n",
    "'CDOM',\n",
    "'LotSizeAreaSQFT',\n",
    "'SqFtTotal',\n",
    "'ElementarySchoolName',\n",
    "'ClosePrice'\n",
    "]"
   ]
  },
  {
   "cell_type": "code",
   "execution_count": 23,
   "metadata": {},
   "outputs": [],
   "source": [
    "home_listings_subset = home_listings[columns]"
   ]
  },
  {
   "cell_type": "code",
   "execution_count": 24,
   "metadata": {},
   "outputs": [
    {
     "data": {
      "text/html": [
       "<div>\n",
       "<style scoped>\n",
       "    .dataframe tbody tr th:only-of-type {\n",
       "        vertical-align: middle;\n",
       "    }\n",
       "\n",
       "    .dataframe tbody tr th {\n",
       "        vertical-align: top;\n",
       "    }\n",
       "\n",
       "    .dataframe thead th {\n",
       "        text-align: right;\n",
       "    }\n",
       "</style>\n",
       "<table border=\"1\" class=\"dataframe\">\n",
       "  <thead>\n",
       "    <tr style=\"text-align: right;\">\n",
       "      <th></th>\n",
       "      <th>BathsTotal</th>\n",
       "      <th>BedsTotal</th>\n",
       "      <th>CDOM</th>\n",
       "      <th>LotSizeAreaSQFT</th>\n",
       "      <th>SqFtTotal</th>\n",
       "      <th>ClosePrice</th>\n",
       "    </tr>\n",
       "  </thead>\n",
       "  <tbody>\n",
       "    <tr>\n",
       "      <th>count</th>\n",
       "      <td>653.000000</td>\n",
       "      <td>653.000000</td>\n",
       "      <td>653.000000</td>\n",
       "      <td>652.000000</td>\n",
       "      <td>653.000000</td>\n",
       "      <td>2.230000e+02</td>\n",
       "    </tr>\n",
       "    <tr>\n",
       "      <th>mean</th>\n",
       "      <td>3.055896</td>\n",
       "      <td>3.894334</td>\n",
       "      <td>98.110260</td>\n",
       "      <td>8039.425583</td>\n",
       "      <td>3186.044410</td>\n",
       "      <td>4.273260e+05</td>\n",
       "    </tr>\n",
       "    <tr>\n",
       "      <th>std</th>\n",
       "      <td>1.027811</td>\n",
       "      <td>0.843333</td>\n",
       "      <td>113.590604</td>\n",
       "      <td>5508.539660</td>\n",
       "      <td>1290.991135</td>\n",
       "      <td>1.973822e+05</td>\n",
       "    </tr>\n",
       "    <tr>\n",
       "      <th>min</th>\n",
       "      <td>1.000000</td>\n",
       "      <td>1.000000</td>\n",
       "      <td>-62.000000</td>\n",
       "      <td>0.000000</td>\n",
       "      <td>850.000000</td>\n",
       "      <td>1.850000e+05</td>\n",
       "    </tr>\n",
       "    <tr>\n",
       "      <th>25%</th>\n",
       "      <td>2.100000</td>\n",
       "      <td>3.000000</td>\n",
       "      <td>18.000000</td>\n",
       "      <td>5662.800000</td>\n",
       "      <td>2165.000000</td>\n",
       "      <td>3.000000e+05</td>\n",
       "    </tr>\n",
       "    <tr>\n",
       "      <th>50%</th>\n",
       "      <td>3.000000</td>\n",
       "      <td>4.000000</td>\n",
       "      <td>62.000000</td>\n",
       "      <td>7405.200000</td>\n",
       "      <td>3007.000000</td>\n",
       "      <td>3.730000e+05</td>\n",
       "    </tr>\n",
       "    <tr>\n",
       "      <th>75%</th>\n",
       "      <td>4.000000</td>\n",
       "      <td>5.000000</td>\n",
       "      <td>138.000000</td>\n",
       "      <td>9147.600000</td>\n",
       "      <td>3931.000000</td>\n",
       "      <td>4.805000e+05</td>\n",
       "    </tr>\n",
       "    <tr>\n",
       "      <th>max</th>\n",
       "      <td>7.100000</td>\n",
       "      <td>6.000000</td>\n",
       "      <td>862.000000</td>\n",
       "      <td>65383.560000</td>\n",
       "      <td>9222.000000</td>\n",
       "      <td>1.622500e+06</td>\n",
       "    </tr>\n",
       "  </tbody>\n",
       "</table>\n",
       "</div>"
      ],
      "text/plain": [
       "       BathsTotal   BedsTotal        CDOM  LotSizeAreaSQFT    SqFtTotal  \\\n",
       "count  653.000000  653.000000  653.000000       652.000000   653.000000   \n",
       "mean     3.055896    3.894334   98.110260      8039.425583  3186.044410   \n",
       "std      1.027811    0.843333  113.590604      5508.539660  1290.991135   \n",
       "min      1.000000    1.000000  -62.000000         0.000000   850.000000   \n",
       "25%      2.100000    3.000000   18.000000      5662.800000  2165.000000   \n",
       "50%      3.000000    4.000000   62.000000      7405.200000  3007.000000   \n",
       "75%      4.000000    5.000000  138.000000      9147.600000  3931.000000   \n",
       "max      7.100000    6.000000  862.000000     65383.560000  9222.000000   \n",
       "\n",
       "         ClosePrice  \n",
       "count  2.230000e+02  \n",
       "mean   4.273260e+05  \n",
       "std    1.973822e+05  \n",
       "min    1.850000e+05  \n",
       "25%    3.000000e+05  \n",
       "50%    3.730000e+05  \n",
       "75%    4.805000e+05  \n",
       "max    1.622500e+06  "
      ]
     },
     "execution_count": 24,
     "metadata": {},
     "output_type": "execute_result"
    }
   ],
   "source": [
    "home_listings_subset.describe()"
   ]
  },
  {
   "cell_type": "code",
   "execution_count": 25,
   "metadata": {},
   "outputs": [
    {
     "data": {
      "text/plain": [
       "BathsTotal              0.000000\n",
       "BedsTotal               0.000000\n",
       "CDOM                    0.000000\n",
       "LotSizeAreaSQFT         0.001531\n",
       "SqFtTotal               0.000000\n",
       "ElementarySchoolName    0.000000\n",
       "ClosePrice              0.658499\n",
       "dtype: float64"
      ]
     },
     "execution_count": 25,
     "metadata": {},
     "output_type": "execute_result"
    }
   ],
   "source": [
    "# How many rows are null for each column?\n",
    "home_listings_subset.isna().sum(0) / len(home_listings_subset)"
   ]
  },
  {
   "cell_type": "markdown",
   "metadata": {},
   "source": [
    "There are lots of nulls on the target column, those will not be useful for training so they can be discarded"
   ]
  },
  {
   "cell_type": "code",
   "execution_count": 26,
   "metadata": {},
   "outputs": [],
   "source": [
    "home_listings_subset = home_listings_subset.dropna(subset=['ClosePrice'])\n"
   ]
  },
  {
   "cell_type": "code",
   "execution_count": 28,
   "metadata": {},
   "outputs": [
    {
     "data": {
      "text/html": [
       "<div>\n",
       "<style scoped>\n",
       "    .dataframe tbody tr th:only-of-type {\n",
       "        vertical-align: middle;\n",
       "    }\n",
       "\n",
       "    .dataframe tbody tr th {\n",
       "        vertical-align: top;\n",
       "    }\n",
       "\n",
       "    .dataframe thead th {\n",
       "        text-align: right;\n",
       "    }\n",
       "</style>\n",
       "<table border=\"1\" class=\"dataframe\">\n",
       "  <thead>\n",
       "    <tr style=\"text-align: right;\">\n",
       "      <th></th>\n",
       "      <th>BathsTotal</th>\n",
       "      <th>BedsTotal</th>\n",
       "      <th>CDOM</th>\n",
       "      <th>LotSizeAreaSQFT</th>\n",
       "      <th>SqFtTotal</th>\n",
       "      <th>ElementarySchoolName</th>\n",
       "      <th>ClosePrice</th>\n",
       "    </tr>\n",
       "  </thead>\n",
       "  <tbody>\n",
       "    <tr>\n",
       "      <th>430</th>\n",
       "      <td>3.0</td>\n",
       "      <td>4</td>\n",
       "      <td>52</td>\n",
       "      <td>7100.28</td>\n",
       "      <td>2484</td>\n",
       "      <td>Allen</td>\n",
       "      <td>485000.0</td>\n",
       "    </tr>\n",
       "    <tr>\n",
       "      <th>431</th>\n",
       "      <td>2.1</td>\n",
       "      <td>4</td>\n",
       "      <td>58</td>\n",
       "      <td>8712.00</td>\n",
       "      <td>2631</td>\n",
       "      <td>Fisher</td>\n",
       "      <td>330000.0</td>\n",
       "    </tr>\n",
       "    <tr>\n",
       "      <th>432</th>\n",
       "      <td>1.1</td>\n",
       "      <td>1</td>\n",
       "      <td>38</td>\n",
       "      <td>1306.80</td>\n",
       "      <td>884</td>\n",
       "      <td>Bright</td>\n",
       "      <td>185000.0</td>\n",
       "    </tr>\n",
       "    <tr>\n",
       "      <th>433</th>\n",
       "      <td>2.0</td>\n",
       "      <td>3</td>\n",
       "      <td>11</td>\n",
       "      <td>6969.60</td>\n",
       "      <td>1451</td>\n",
       "      <td>Shawnee</td>\n",
       "      <td>210000.0</td>\n",
       "    </tr>\n",
       "    <tr>\n",
       "      <th>434</th>\n",
       "      <td>2.0</td>\n",
       "      <td>3</td>\n",
       "      <td>89</td>\n",
       "      <td>6098.40</td>\n",
       "      <td>1559</td>\n",
       "      <td>Bright</td>\n",
       "      <td>225000.0</td>\n",
       "    </tr>\n",
       "  </tbody>\n",
       "</table>\n",
       "</div>"
      ],
      "text/plain": [
       "     BathsTotal  BedsTotal  CDOM  LotSizeAreaSQFT  SqFtTotal  \\\n",
       "430         3.0          4    52          7100.28       2484   \n",
       "431         2.1          4    58          8712.00       2631   \n",
       "432         1.1          1    38          1306.80        884   \n",
       "433         2.0          3    11          6969.60       1451   \n",
       "434         2.0          3    89          6098.40       1559   \n",
       "\n",
       "    ElementarySchoolName  ClosePrice  \n",
       "430                Allen    485000.0  \n",
       "431               Fisher    330000.0  \n",
       "432               Bright    185000.0  \n",
       "433              Shawnee    210000.0  \n",
       "434               Bright    225000.0  "
      ]
     },
     "execution_count": 28,
     "metadata": {},
     "output_type": "execute_result"
    }
   ],
   "source": [
    "home_listings_subset.head()"
   ]
  },
  {
   "cell_type": "code",
   "execution_count": 73,
   "metadata": {},
   "outputs": [
    {
     "data": {
      "text/plain": [
       "BathsTotal              float64\n",
       "BedsTotal                 int64\n",
       "CDOM                      int64\n",
       "LotSizeAreaSQFT         float64\n",
       "SqFtTotal                 int64\n",
       "ElementarySchoolName     object\n",
       "ClosePrice              float64\n",
       "dtype: object"
      ]
     },
     "execution_count": 73,
     "metadata": {},
     "output_type": "execute_result"
    }
   ],
   "source": [
    "home_listings_subset.dtypes"
   ]
  },
  {
   "cell_type": "code",
   "execution_count": 30,
   "metadata": {},
   "outputs": [
    {
     "data": {
      "text/plain": [
       "2.0    56\n",
       "2.1    43\n",
       "3.1    35\n",
       "3.0    30\n",
       "4.1    23\n",
       "4.0    17\n",
       "4.2     7\n",
       "3.2     4\n",
       "5.0     2\n",
       "5.2     2\n",
       "5.1     2\n",
       "1.1     1\n",
       "2.2     1\n",
       "Name: BathsTotal, dtype: int64"
      ]
     },
     "execution_count": 30,
     "metadata": {},
     "output_type": "execute_result"
    }
   ],
   "source": [
    "# Baths total seems to be a floating number, but it probably should be treated as a categorical variable, since it can only take on a few values.\n",
    "home_listings_subset.BathsTotal.value_counts()"
   ]
  },
  {
   "cell_type": "code",
   "execution_count": 33,
   "metadata": {},
   "outputs": [],
   "source": [
    "import numpy as np\n",
    "import matplotlib.pyplot as plt"
   ]
  },
  {
   "cell_type": "code",
   "execution_count": 37,
   "metadata": {},
   "outputs": [
    {
     "data": {
      "image/png": "[encoded data removed]",
      "text/plain": [
       "<Figure size 1500x400 with 1 Axes>"
      ]
     },
     "metadata": {},
     "output_type": "display_data"
    }
   ],
   "source": [
    "plt.figure(figsize=(15,4))\n",
    "plt.title('Elementary School Distribution')\n",
    "home_listings_subset.ElementarySchoolName.value_counts().plot.bar()\n",
    "plt.xticks(rotation=45);"
   ]
  },
  {
   "cell_type": "markdown",
   "metadata": {},
   "source": [
    "How is the relationship between SqFeetTotal and Price?"
   ]
  },
  {
   "cell_type": "code",
   "execution_count": 44,
   "metadata": {},
   "outputs": [
    {
     "data": {
      "image/png": "[encoded data removed]",
      "text/plain": [
       "<Figure size 1500x500 with 1 Axes>"
      ]
     },
     "metadata": {},
     "output_type": "display_data"
    }
   ],
   "source": [
    "plt.figure(figsize=(15,5))\n",
    "plt.scatter(home_listings_subset.SqFtTotal, home_listings_subset.ClosePrice, alpha=0.55)\n",
    "plt.title('Price vs Total Surface (SqFt)')\n",
    "plt.xlabel('Total Surface')\n",
    "plt.ylabel('Price')\n",
    "plt.xscale('log')\n",
    "plt.yscale('log')"
   ]
  },
  {
   "cell_type": "markdown",
   "metadata": {},
   "source": [
    "Are there any other columns that might be worth looking at?"
   ]
  },
  {
   "cell_type": "code",
   "execution_count": 49,
   "metadata": {},
   "outputs": [
    {
     "name": "stdout",
     "output_type": "stream",
     "text": [
      "AppointmentCall 117\n",
      "AppointmentPhone 120\n",
      "BathsFull 0\n",
      "BathsHalf 0\n",
      "BathsTotal 0\n",
      "BedsTotal 0\n",
      "Block 53\n",
      "BuyersAgencyCommission 0\n",
      "CDOM 0\n",
      "City 0\n",
      "ConstructionMaterials 1\n",
      "YearBuiltDetails 0\n",
      "Country 12\n",
      "CountyOrParish 0\n",
      "CurrentPrice 0\n",
      "DOM 0\n",
      "ElementarySchoolName 0\n",
      "ExteriorFeatures 87\n",
      "FireplaceFeatures 57\n",
      "FireplacesTotal 1\n",
      "Flooring 0\n",
      "FoundationDetails 0\n",
      "GarageLength 8\n",
      "GarageWidth 8\n",
      "HandicapYN 1\n",
      "Heating 1\n",
      "HighSchoolName 0\n",
      "AssociationType 1\n",
      "AssociationFeeFrequency 68\n",
      "AssociationFee 68\n",
      "AssociationFeeIncludes 67\n",
      "HOAManagementCompany 71\n",
      "HOAManagementCompanyPhone 69\n",
      "StructuralStyle 0\n",
      "KeyboxNumber 23\n",
      "KeyBoxType 1\n",
      "OtherEquipment 0\n",
      "ListAgentDirectWorkPhone 7\n",
      "ListAgentFullName 0\n",
      "ListAgentMLSID 0\n",
      "ListOfficeMLSID 0\n",
      "ListOfficeName 0\n",
      "ListOfficePhone 2\n",
      "ListPrice 0\n",
      "ListingAgreement 0\n",
      "ListingContractDate 0\n",
      "LoanType 1\n",
      "LotFeatures 70\n",
      "LotSizeArea 1\n",
      "LotSizeAreaSQFT 1\n",
      "LotSizeUnits 0\n",
      "LotSize 1\n",
      "MiddleSchoolName 1\n",
      "MLSAreaMajor 0\n",
      "MLSNumber 0\n",
      "MLSAreaMinor 0\n",
      "MunicipalUtilityDistrictYN 1\n",
      "NumberOfDiningAreas 0\n",
      "NumberOfLivingAreas 0\n",
      "NumberOfStories 0\n",
      "OfficeSupervisor 12\n",
      "OfficeSupervisorLicense 14\n",
      "OriginalListPrice 0\n",
      "OwnerName 6\n",
      "ParcelNumber 11\n",
      "ParkingFeatures 0\n",
      "ParkingSpacesCarport 0\n",
      "ParkingSpacesCoveredTotal 0\n",
      "ParkingSpacesGarage 0\n",
      "PhotoCount 0\n",
      "PoolYN 0\n",
      "Possession 1\n",
      "TitleCompanyPreferred 103\n",
      "Unnamed: 179 113\n",
      "PublicRemarks 8\n",
      "PropertySubType 0\n",
      "PropertyType 0\n",
      "Directions 1\n",
      "RATIO_CurrentPrice_By_Acres 33\n",
      "RATIO_CurrentPrice_By_LotSizeAreaSQFT 33\n",
      "RATIO_CurrentPrice_By_SQFT 0\n",
      "Roof 0\n",
      "SchoolDistrict 0\n",
      "SecondMortgageYN 1\n",
      "SecuritySystemYN 1\n",
      "SellerType 1\n",
      "ShowingInstructions 84\n",
      "ShowingInstructionsType 0\n",
      "SmartHomeFeaturesApporPassYN 32\n",
      "SqFtTotal 0\n",
      "BuildingAreaSource 0\n",
      "StateOrProvince 0\n",
      "Status 0\n",
      "StatusChangeTimestamp 0\n",
      "StreetName 0\n",
      "StreetNumber 0\n",
      "StreetSuffix 18\n",
      "ArchitecturalStyle 111\n",
      "SubAgencyCommission 0\n",
      "SubdivisionName 0\n",
      "TransactionType 0\n",
      "Utilities 1\n",
      "VariableFeeYN 0\n"
     ]
    }
   ],
   "source": [
    "for col in home_listings.columns:\n",
    "    nulls = home_listings[col].isna().sum()\n",
    "    # Let's filter those with more tan 20% of nulls\n",
    "    if nulls / len(home_listings) <= 0.2:\n",
    "        print(col, nulls)"
   ]
  },
  {
   "cell_type": "code",
   "execution_count": 51,
   "metadata": {},
   "outputs": [
    {
     "data": {
      "text/plain": [
       "United States    641\n",
       "Name: Country, dtype: int64"
      ]
     },
     "execution_count": 51,
     "metadata": {},
     "output_type": "execute_result"
    }
   ],
   "source": [
    "home_listings.Country.value_counts() #Country would be important if the data was not from the US, but it is, so we can ignore it."
   ]
  },
  {
   "cell_type": "code",
   "execution_count": 53,
   "metadata": {},
   "outputs": [
    {
     "data": {
      "text/plain": [
       "Single Detached                                            573\n",
       "Condo/Townhome                                              63\n",
       "Garden/Zero Lot Line, Single Detached                        6\n",
       "Attached or 1/2 Duplex                                       4\n",
       "Attached or 1/2 Duplex, Condo/Townhome, Single Detached      1\n",
       "Singlewide Mobile w/Land                                     1\n",
       "Doublewide Mobile w/Land                                     1\n",
       "Single Detached, Vacation Home                               1\n",
       "Farm/Ranch House                                             1\n",
       "Attached or 1/2 Duplex, Single Detached                      1\n",
       "Historical/Conservation Dist., Single Detached               1\n",
       "Name: StructuralStyle, dtype: int64"
      ]
     },
     "execution_count": 53,
     "metadata": {},
     "output_type": "execute_result"
    }
   ],
   "source": [
    "home_listings.StructuralStyle.value_counts()\n",
    "# Structural style could be a nice feature to add"
   ]
  },
  {
   "cell_type": "code",
   "execution_count": 74,
   "metadata": {},
   "outputs": [],
   "source": [
    "columns.append('StructuralStyle')"
   ]
  },
  {
   "cell_type": "code",
   "execution_count": 76,
   "metadata": {},
   "outputs": [],
   "source": [
    "home_listings_subset.to_csv('../data/home-listings-subset.csv', index=False) # Let's save the subset for training"
   ]
  },
  {
   "cell_type": "code",
   "execution_count": null,
   "metadata": {},
   "outputs": [],
   "source": []
  }
 ],
 "metadata": {
  "kernelspec": {
   "display_name": "base",
   "language": "python",
   "name": "python3"
  },
  "language_info": {
   "codemirror_mode": {
    "name": "ipython",
    "version": 3
   },
   "file_extension": ".py",
   "mimetype": "text/x-python",
   "name": "python",
   "nbconvert_exporter": "python",
   "pygments_lexer": "ipython3",
   "version": "3.9.13"
  }
 },
 "nbformat": 4,
 "nbformat_minor": 2
}
