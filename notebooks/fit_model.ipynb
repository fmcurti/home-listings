{
 "cells": [
  {
   "cell_type": "code",
   "execution_count": 1,
   "metadata": {},
   "outputs": [],
   "source": [
    "import sys"
   ]
  },
  {
   "cell_type": "code",
   "execution_count": 2,
   "metadata": {},
   "outputs": [],
   "source": [
    "sys.path.append('..')"
   ]
  },
  {
   "cell_type": "code",
   "execution_count": 3,
   "metadata": {},
   "outputs": [],
   "source": [
    "from evaluate import load_train_dev_test, rmse"
   ]
  },
  {
   "cell_type": "code",
   "execution_count": 4,
   "metadata": {},
   "outputs": [
    {
     "name": "stdout",
     "output_type": "stream",
     "text": [
      "{'pct(train)': 0.8071748878923767, 'pct(dev)': 0.08968609865470852, 'pct(test)': 0.1031390134529148}\n"
     ]
    }
   ],
   "source": [
    "(X_train, y_train), (X_dev, y_dev), test = load_train_dev_test('../data/home-listings-subset.csv')"
   ]
  },
  {
   "cell_type": "code",
   "execution_count": 5,
   "metadata": {},
   "outputs": [
    {
     "data": {
      "text/plain": [
       "94     346000.0\n",
       "180    545000.0\n",
       "59     301000.0\n",
       "176    530000.0\n",
       "137    406900.0\n",
       "         ...   \n",
       "62     305000.0\n",
       "111    369000.0\n",
       "217    931000.0\n",
       "52     298000.0\n",
       "126    390220.0\n",
       "Name: ClosePrice, Length: 180, dtype: float64"
      ]
     },
     "execution_count": 5,
     "metadata": {},
     "output_type": "execute_result"
    }
   ],
   "source": [
    "y_train"
   ]
  },
  {
   "cell_type": "markdown",
   "metadata": {},
   "source": [
    "To get a first estimate of how my models are doing, I'll use as a baseline the mean and median price of the houses"
   ]
  },
  {
   "cell_type": "code",
   "execution_count": 6,
   "metadata": {},
   "outputs": [],
   "source": [
    "import numpy as np\n",
    "\n",
    "mean_price = np.mean(y_train)\n",
    "median_price = np.median(y_train)"
   ]
  },
  {
   "cell_type": "code",
   "execution_count": 7,
   "metadata": {},
   "outputs": [
    {
     "name": "stdout",
     "output_type": "stream",
     "text": [
      "Train error with mean price: 200564.19525065424\n",
      "Dev error with mean price: 132918.99442758234\n"
     ]
    }
   ],
   "source": [
    "print(\"Train error with mean price:\", rmse(y_train, np.full_like(y_train, mean_price)))\n",
    "print(\"Dev error with mean price:\", rmse(y_dev, np.full_like(y_dev, mean_price)))"
   ]
  },
  {
   "cell_type": "code",
   "execution_count": 8,
   "metadata": {},
   "outputs": [
    {
     "name": "stdout",
     "output_type": "stream",
     "text": [
      "Train error with median price: 207473.65310801112\n",
      "Dev error with median price: 128569.6057869044\n"
     ]
    }
   ],
   "source": [
    "print(\"Train error with median price:\", rmse(y_train, np.full_like(y_train, median_price)))\n",
    "print(\"Dev error with median price:\", rmse(y_dev, np.full_like(y_dev, median_price)))"
   ]
  },
  {
   "cell_type": "markdown",
   "metadata": {},
   "source": [
    "## Fit first models"
   ]
  },
  {
   "cell_type": "code",
   "execution_count": 92,
   "metadata": {},
   "outputs": [],
   "source": [
    "from transforms import FeatureProjection, TargetEncoder\n",
    "from sklearn.pipeline import make_pipeline, make_union\n",
    "from sklearn.preprocessing import OneHotEncoder\n",
    "from sklearn.impute import SimpleImputer\n",
    "from sklearn.linear_model import LinearRegression\n",
    "from sklearn.ensemble import RandomForestRegressor\n",
    "\n",
    "numerical_columns = [\n",
    "'CDOM',\n",
    "'LotSizeAreaSQFT',\n",
    "'SqFtTotal',\n",
    "]\n",
    "\n",
    "features_pipe =  make_union(\n",
    "    make_pipeline(\n",
    "        FeatureProjection(numerical_columns),\n",
    "        SimpleImputer() # There was no null data on the original dataset, but can be useful for new data\n",
    "    ),\n",
    "    TargetEncoder('BathsTotal'),\n",
    "    TargetEncoder('BedsTotal'),\n",
    "    TargetEncoder('ElementarySchoolName'),\n",
    "    TargetEncoder('StructuralStyle', min_freq=1)\n",
    "\n",
    ")\n",
    "\n",
    "lr_pipe = make_pipeline(\n",
    "    features_pipe,\n",
    "    LinearRegression()\n",
    ")\n",
    "\n",
    "rf_pipe = make_pipeline(\n",
    "    features_pipe,\n",
    "    RandomForestRegressor(n_estimators=20, random_state=42)\n",
    ")"
   ]
  },
  {
   "cell_type": "code",
   "execution_count": 86,
   "metadata": {},
   "outputs": [],
   "source": [
    "lr_pipe.fit(X_train, y_train);"
   ]
  },
  {
   "cell_type": "code",
   "execution_count": 87,
   "metadata": {},
   "outputs": [
    {
     "name": "stdout",
     "output_type": "stream",
     "text": [
      "Train error with Linear Regression: 77214.58689202162\n",
      "Dev error with Linear Regression: 78487.64517138987\n"
     ]
    }
   ],
   "source": [
    "print(\"Train error with Linear Regression:\", rmse(y_train, np.full_like(y_train, lr_pipe.predict(X_train))))\n",
    "print(\"Dev error with Linear Regression:\", rmse(y_dev, np.full_like(y_dev, lr_pipe.predict(X_dev))))"
   ]
  },
  {
   "cell_type": "code",
   "execution_count": 93,
   "metadata": {},
   "outputs": [],
   "source": [
    "rf_pipe.fit(X_train, y_train);"
   ]
  },
  {
   "cell_type": "code",
   "execution_count": 94,
   "metadata": {},
   "outputs": [
    {
     "name": "stdout",
     "output_type": "stream",
     "text": [
      "Train error with Random Forest: 30511.151692300762\n",
      "Dev error with Random Forest: 60486.630099988455\n"
     ]
    }
   ],
   "source": [
    "print(\"Train error with Random Forest:\", rmse(y_train, np.full_like(y_train, rf_pipe.predict(X_train))))\n",
    "print(\"Dev error with Random Forest:\", rmse(y_dev, np.full_like(y_dev, rf_pipe.predict(X_dev))))"
   ]
  },
  {
   "cell_type": "code",
   "execution_count": 90,
   "metadata": {},
   "outputs": [
    {
     "data": {
      "text/plain": [
       "RandomForestRegressor()"
      ]
     },
     "execution_count": 90,
     "metadata": {},
     "output_type": "execute_result"
    }
   ],
   "source": [
    "RandomForestRegressor()"
   ]
  },
  {
   "cell_type": "code",
   "execution_count": null,
   "metadata": {},
   "outputs": [],
   "source": []
  },
  {
   "cell_type": "code",
   "execution_count": null,
   "metadata": {},
   "outputs": [],
   "source": []
  }
 ],
 "metadata": {
  "kernelspec": {
   "display_name": "base",
   "language": "python",
   "name": "python3"
  },
  "language_info": {
   "codemirror_mode": {
    "name": "ipython",
    "version": 3
   },
   "file_extension": ".py",
   "mimetype": "text/x-python",
   "name": "python",
   "nbconvert_exporter": "python",
   "pygments_lexer": "ipython3",
   "version": "3.9.13"
  }
 },
 "nbformat": 4,
 "nbformat_minor": 2
}
