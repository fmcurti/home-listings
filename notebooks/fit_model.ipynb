{
 "cells": [
  {
   "cell_type": "code",
   "execution_count": 2,
   "metadata": {},
   "outputs": [],
   "source": [
    "import sys"
   ]
  },
  {
   "cell_type": "code",
   "execution_count": 3,
   "metadata": {},
   "outputs": [],
   "source": [
    "sys.path.append('..')"
   ]
  },
  {
   "cell_type": "code",
   "execution_count": 4,
   "metadata": {},
   "outputs": [],
   "source": [
    "from evaluate import load_train_dev_test, rmse"
   ]
  },
  {
   "cell_type": "code",
   "execution_count": 7,
   "metadata": {},
   "outputs": [],
   "source": [
    "(X_train, y_train), (X_dev, y_dev) = load_train_dev_test('../data/home-listings-subset.csv')"
   ]
  },
  {
   "cell_type": "code",
   "execution_count": 8,
   "metadata": {},
   "outputs": [
    {
     "data": {
      "text/plain": [
       "141    415000.0\n",
       "147    420990.0\n",
       "143    417500.0\n",
       "196    620345.0\n",
       "67     310000.0\n",
       "         ...   \n",
       "106    364000.0\n",
       "14     250000.0\n",
       "92     342990.0\n",
       "179    542000.0\n",
       "102    362000.0\n",
       "Name: ClosePrice, Length: 200, dtype: float64"
      ]
     },
     "execution_count": 8,
     "metadata": {},
     "output_type": "execute_result"
    }
   ],
   "source": [
    "y_train"
   ]
  },
  {
   "cell_type": "markdown",
   "metadata": {},
   "source": [
    "To get a first estimate of how my models are doing, I'll use as a baseline the mean and median price of the houses"
   ]
  },
  {
   "cell_type": "code",
   "execution_count": 9,
   "metadata": {},
   "outputs": [],
   "source": [
    "import numpy as np\n",
    "\n",
    "mean_price = np.mean(y_train)\n",
    "median_price = np.median(y_train)"
   ]
  },
  {
   "cell_type": "code",
   "execution_count": 10,
   "metadata": {},
   "outputs": [
    {
     "name": "stdout",
     "output_type": "stream",
     "text": [
      "Train error with mean price: 194823.66596449667\n",
      "Dev error with mean price: 214481.06045635117\n"
     ]
    }
   ],
   "source": [
    "print(\"Train error with mean price:\", rmse(y_train, np.full_like(y_train, mean_price)))\n",
    "print(\"Dev error with mean price:\", rmse(y_dev, np.full_like(y_dev, mean_price)))"
   ]
  },
  {
   "cell_type": "code",
   "execution_count": 11,
   "metadata": {},
   "outputs": [
    {
     "name": "stdout",
     "output_type": "stream",
     "text": [
      "Train error with median price: 200982.08729587073\n",
      "Dev error with median price: 217804.36574855525\n"
     ]
    }
   ],
   "source": [
    "print(\"Train error with median price:\", rmse(y_train, np.full_like(y_train, median_price)))\n",
    "print(\"Dev error with median price:\", rmse(y_dev, np.full_like(y_dev, median_price)))"
   ]
  },
  {
   "cell_type": "markdown",
   "metadata": {},
   "source": [
    "## Fit first models"
   ]
  },
  {
   "cell_type": "code",
   "execution_count": 25,
   "metadata": {},
   "outputs": [],
   "source": [
    "from transforms import FeatureProjection, TargetEncoder\n",
    "from sklearn.pipeline import make_pipeline, make_union\n",
    "from sklearn.impute import SimpleImputer\n",
    "from sklearn.linear_model import LinearRegression\n",
    "from sklearn.ensemble import RandomForestRegressor\n",
    "from xgboost import XGBRegressor\n",
    "\n",
    "numerical_columns = [\n",
    "'CDOM',\n",
    "'LotSizeAreaSQFT',\n",
    "'SqFtTotal',\n",
    "]\n",
    "\n",
    "features_pipe =  make_union(\n",
    "    make_pipeline(\n",
    "        FeatureProjection(numerical_columns),\n",
    "        SimpleImputer() # There was no null data on the original dataset, but can be useful for new data\n",
    "    ),\n",
    "    TargetEncoder('BathsTotal'),\n",
    "    TargetEncoder('BedsTotal'),\n",
    "    TargetEncoder('ElementarySchoolName'),\n",
    "    TargetEncoder('StructuralStyle', min_freq=1)\n",
    "\n",
    ")\n",
    "\n",
    "lr_pipe = make_pipeline(\n",
    "    features_pipe,\n",
    "    LinearRegression()\n",
    ")\n",
    "\n",
    "rf_pipe = make_pipeline(\n",
    "    features_pipe,\n",
    "    RandomForestRegressor(n_estimators=20, random_state=42)\n",
    ")\n",
    "\n",
    "xg_pipe = make_pipeline(\n",
    "    features_pipe,\n",
    "    XGBRegressor(n_estimators=20, random_state=42)\n",
    ")"
   ]
  },
  {
   "cell_type": "code",
   "execution_count": 13,
   "metadata": {},
   "outputs": [],
   "source": [
    "lr_pipe.fit(X_train, y_train);"
   ]
  },
  {
   "cell_type": "code",
   "execution_count": 14,
   "metadata": {},
   "outputs": [
    {
     "name": "stdout",
     "output_type": "stream",
     "text": [
      "Train error with Linear Regression: 76624.98730320783\n",
      "Dev error with Linear Regression: 50133.70993858404\n"
     ]
    }
   ],
   "source": [
    "print(\"Train error with Linear Regression:\", rmse(y_train, np.full_like(y_train, lr_pipe.predict(X_train))))\n",
    "print(\"Dev error with Linear Regression:\", rmse(y_dev, np.full_like(y_dev, lr_pipe.predict(X_dev))))"
   ]
  },
  {
   "cell_type": "code",
   "execution_count": 15,
   "metadata": {},
   "outputs": [],
   "source": [
    "rf_pipe.fit(X_train, y_train);"
   ]
  },
  {
   "cell_type": "code",
   "execution_count": 16,
   "metadata": {},
   "outputs": [
    {
     "name": "stdout",
     "output_type": "stream",
     "text": [
      "Train error with Random Forest: 30151.948182263655\n",
      "Dev error with Random Forest: 37226.866988510024\n"
     ]
    }
   ],
   "source": [
    "print(\"Train error with Random Forest:\", rmse(y_train, np.full_like(y_train, rf_pipe.predict(X_train))))\n",
    "print(\"Dev error with Random Forest:\", rmse(y_dev, np.full_like(y_dev, rf_pipe.predict(X_dev))))"
   ]
  },
  {
   "cell_type": "code",
   "execution_count": 26,
   "metadata": {},
   "outputs": [],
   "source": [
    "xg_pipe.fit(X_train, y_train);"
   ]
  },
  {
   "cell_type": "code",
   "execution_count": 27,
   "metadata": {},
   "outputs": [
    {
     "name": "stdout",
     "output_type": "stream",
     "text": [
      "Train error with XGBoost: 14961.740490887054\n",
      "Dev error with XGBoost: 57768.28516137212\n"
     ]
    }
   ],
   "source": [
    "print(\"Train error with XGBoost:\", rmse(y_train, np.full_like(y_train, xg_pipe.predict(X_train))))\n",
    "print(\"Dev error with XGBoost:\", rmse(y_dev, np.full_like(y_dev, xg_pipe.predict(X_dev))))"
   ]
  },
  {
   "cell_type": "code",
   "execution_count": null,
   "metadata": {},
   "outputs": [],
   "source": []
  }
 ],
 "metadata": {
  "kernelspec": {
   "display_name": "base",
   "language": "python",
   "name": "python3"
  },
  "language_info": {
   "codemirror_mode": {
    "name": "ipython",
    "version": 3
   },
   "file_extension": ".py",
   "mimetype": "text/x-python",
   "name": "python",
   "nbconvert_exporter": "python",
   "pygments_lexer": "ipython3",
   "version": "3.9.13"
  }
 },
 "nbformat": 4,
 "nbformat_minor": 2
}
